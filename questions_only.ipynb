{
 "cells": [
  {
   "cell_type": "markdown",
   "metadata": {},
   "source": [
    "## Neophyte"
   ]
  },
  {
   "cell_type": "markdown",
   "metadata": {},
   "source": [
    "Import the numpy package under the name `np`\n"
   ]
  },

  {
   "cell_type": "markdown",
   "metadata": {},
   "source": [
    "Print the numpy version and the configuration.\n"
   ]
  },

  {
   "cell_type": "markdown",
   "metadata": {},
   "source": [
    "Create a null vector of size 10\n"
   ]
  },

  {
   "cell_type": "markdown",
   "metadata": {},
   "source": [
    "Create a null vector of size 10 but the fifth value which is 1\n"
   ]
  },

  {
   "cell_type": "markdown",
   "metadata": {},
   "source": [
    "Create a vector with values ranging from 10 to 49\n"
   ]
  },

  {
   "cell_type": "markdown",
   "metadata": {},
   "source": [
    "Create a 3x3 matrix with values ranging from 0 to 8\n"
   ]
  },

  {
   "cell_type": "markdown",
   "metadata": {},
   "source": [
    "Find indices of non-zero elements from [1,2,0,0,4,0]\n"
   ]
  },

  {
   "cell_type": "markdown",
   "metadata": {},
   "source": [
    "Create a 3x3 identity matrix\n"
   ]
  },

  {
   "cell_type": "markdown",
   "metadata": {},
   "source": [
    "Create a 5x5 matrix with values 1,2,3,4 just below the diagonal\n"
   ]
  },

  {
   "cell_type": "markdown",
   "metadata": {},
   "source": [
    "Create a 3x3x3 array with random values\n"
   ]
  },

  {
   "cell_type": "markdown",
   "metadata": {},
   "source": [
    "## Novice"
   ]
  },
  {
   "cell_type": "markdown",
   "metadata": {},
   "source": [
    "Create a 8x8 matrix and fill it with a checkerboard pattern\n"
   ]
  },

  {
   "cell_type": "markdown",
   "metadata": {},
   "source": [
    "Create a 10x10 array with random values and find the minimum and maximum\n",
    "values\n"
   ]
  },

  {
   "cell_type": "markdown",
   "metadata": {},
   "source": [
    "Create a checkerboard 8x8 matrix using the tile function\n"
   ]
  },

  {
   "cell_type": "markdown",
   "metadata": {},
   "source": [
    "Normalize a 5x5 random matrix (between 0 and 1)\n"
   ]
  },

  {
   "cell_type": "markdown",
   "metadata": {},
   "source": [
    "Multiply a 5x3 matrix by a 3x2 matrix (real matrix product)\n"
   ]
  },

  {
   "cell_type": "markdown",
   "metadata": {},
   "source": [
    "Create a 5x5 matrix with row values ranging from 0 to 4\n"
   ]
  },

  {
   "cell_type": "markdown",
   "metadata": {},
   "source": [
    "Create a vector of size 10 with values ranging from 0 to 1, both\n",
    "excluded\n"
   ]
  },

  {
   "cell_type": "markdown",
   "metadata": {},
   "source": [
    "Create a random vector of size 10 and sort it\n"
   ]
  },

  {
   "cell_type": "markdown",
   "metadata": {},
   "source": [
    "Consider two random array A anb B, check if they are equal.\n"
   ]
  },

  {
   "cell_type": "markdown",
   "metadata": {},
   "source": [
    "Create a random vector of size 30 and find the mean value\n"
   ]
  },

  {
   "cell_type": "markdown",
   "metadata": {},
   "source": [
    "## Apprentice"
   ]
  },
  {
   "cell_type": "markdown",
   "metadata": {},
   "source": [
    "Make an array immutable (read-only)\n"
   ]
  },

  {
   "cell_type": "markdown",
   "metadata": {},
   "source": [
    "Consider a random 10x2 matrix representing cartesian coordinates,\n",
    "convert them to polar coordinates\n"
   ]
  },

  {
   "cell_type": "markdown",
   "metadata": {},
   "source": [
    "Create random vector of size 10 and replace the maximum value by 0\n"
   ]
  },

  {
   "cell_type": "markdown",
   "metadata": {},
   "source": [
    "Create a structured array with `x` and `y` coordinates covering the\n",
    "[0,1]x[0,1] area.\n"
   ]
  },

  {
   "cell_type": "markdown",
   "metadata": {},
   "source": [
    "Print the minimum and maximum representable value for each numpy scalar\n",
    "type\n"
   ]
  },

  {
   "cell_type": "markdown",
   "metadata": {},
   "source": [
    "Create a structured array representing a position (x,y) and a color\n",
    "(r,g,b)\n"
   ]
  },

  {
   "cell_type": "markdown",
   "metadata": {},
   "source": [
    "Consider a random vector with shape (100,2) representing coordinates,\n",
    "find point by point distances\n"
   ]
  },

  {
   "cell_type": "markdown",
   "metadata": {},
   "source": [
    "Generate a generic 2D Gaussian-like array\n"
   ]
  },

  {
   "cell_type": "markdown",
   "metadata": {},
   "source": [
    "How to tell if a given 2D array has null columns ?\n"
   ]
  },

  {
   "cell_type": "markdown",
   "metadata": {},
   "source": [
    "Find the nearest value from a given value in an array\n"
   ]
  },

  {
   "cell_type": "markdown",
   "metadata": {},
   "source": [
    "## Journeyman"
   ]
  },
  {
   "cell_type": "markdown",
   "metadata": {},
   "source": [
    "Consider the following file:\n"
   ]
  },
  {
   "cell_type": "raw",
   "metadata": {},
   "source": [
    "1,2,3,4,5\n",
    "6,,,7,8\n",
    ",,9,10,11"
   ]
  },
  {
   "cell_type": "markdown",
   "metadata": {},
   "source": [
    "How to read it ?\n"
   ]
  },

  {
   "cell_type": "markdown",
   "metadata": {},
   "source": [
    "Consider a generator function that generates 10 integers and use it to\n",
    "build an array\n"
   ]
  },

  {
   "cell_type": "markdown",
   "metadata": {},
   "source": [
    "Consider a given vector, how to add 1 to each element indexed by a\n",
    "second vector (be careful with repeated indices) ?\n"
   ]
  },

  {
   "cell_type": "markdown",
   "metadata": {},
   "source": [
    "How to accumulate elements of a vector (X) to an array (F) based on an\n",
    "index list (I) ?\n"
   ]
  },

  {
   "cell_type": "markdown",
   "metadata": {},
   "source": [
    "Considering a (w,h,3) image of (dtype=ubyte), compute the number of\n",
    "unique colors\n"
   ]
  },

  {
   "cell_type": "markdown",
   "metadata": {},
   "source": [
    "Considering a four dimensions array, how to get sum over the last two\n",
    "axis at once ?\n"
   ]
  },

  {
   "cell_type": "markdown",
   "metadata": {},
   "source": [
    "Considering a one-dimensional vector D, how to compute means of subsets\n",
    "of D using a vector S of same size describing subset indices ?\n"
   ]
  },

  {
   "cell_type": "markdown",
   "metadata": {},
   "source": [
    "Consider the vector [1, 2, 3, 4, 5], how to build a new vector with 3\n",
    "consecutive zeros interleaved between each value ?\n"
   ]
  },

  {
   "cell_type": "markdown",
   "metadata": {},
   "source": [
    "Consider an array of dimension (5,5,3), how to mulitply it by an array\n",
    "with dimensions (5,5) ?\n"
   ]
  },

  {
   "cell_type": "markdown",
   "metadata": {},
   "source": [
    "How to swap two rows of an array ?\n"
   ]
  },

  {
   "cell_type": "markdown",
   "metadata": {},
   "source": [
    "## Craftsman"
   ]
  },
  {
   "cell_type": "markdown",
   "metadata": {},
   "source": [
    "Consider a one-dimensional array Z, build a two-dimensional array whose\n",
    "first row is (Z[0],Z[1],Z[2]) and each subsequent row is shifted by 1\n",
    "(last row should be (Z[-3],Z[-2],Z[-1])\n"
   ]
  },

  {
   "cell_type": "markdown",
   "metadata": {},
   "source": [
    "Consider a set of 10 triplets describing 10 triangles (with shared\n",
    "vertices), find the set of unique line segments composing all the\n",
    "triangles.\n"
   ]
  },

  {
   "cell_type": "markdown",
   "metadata": {},
   "source": [
    "Given an array C that is a bincount, how to produce an array A such that\n",
    "np.bincount(A) == C ?\n"
   ]
  },

  {
   "cell_type": "markdown",
   "metadata": {},
   "source": [
    "How to compute averages using a sliding window over an array ?\n"
   ]
  },

  {
   "cell_type": "markdown",
   "metadata": {},
   "source": [
    "## Artisan"
   ]
  },
  {
   "cell_type": "markdown",
   "metadata": {},
   "source": [
    "Considering a 10x3 matrix, extract rows with unequal values (e.g.\n",
    "[2,2,3])\n"
   ]
  },

  {
   "cell_type": "markdown",
   "metadata": {},
   "source": [
    "Convert a vector of ints into a matrix binary representation.\n"
   ]
  },

  {
   "cell_type": "markdown",
   "metadata": {},
   "source": [
    "## Adept"
   ]
  },
  {
   "cell_type": "markdown",
   "metadata": {},
   "source": [
    "Consider an arbitrary array, write a function that extract a subpart\n",
    "with a fixed shape and centered on a given element (pad with a `fill`\n",
    "value when necessary)\n"
   ]
  },
  {
   "cell_type": "markdown",
   "metadata": {},
   "source": [
    "Consider an array Z = [1,2,3,4,5,6,7,8,9,10,11,12,13,14], how to\n",
    "generate an array R = [[1,2,3,4], [2,3,4,5], [3,4,5,6], ...,\n",
    "[11,12,13,14]] ?\n"
   ]
  },

  {
   "cell_type": "markdown",
   "metadata": {},
   "source": [
    "## Expert"
   ]
  },
  {
   "cell_type": "markdown",
   "metadata": {},
   "source": [
    "Consider two arrays A and B of shape (8,3) and (2,2). How to find rows\n",
    "of A that contain elements of each row of B regardless of the order of\n",
    "the elements in B ?\n"
   ]
  },

  {
   "cell_type": "markdown",
   "metadata": {},
   "source": [
    "Extract all the contiguous 3x3 blocks from a random 10x10 matrix.\n"
   ]
  },

  {
   "cell_type": "markdown",
   "metadata": {},
   "source": [
    "Create a 2D array subclass such that Z[i,j] == Z[j,i]\n"
   ]
  },

  {
   "cell_type": "markdown",
   "metadata": {},
   "source": [
    "Consider a set of p matrices wich shape (n,n) and a set of p vectors\n",
    "with shape (n,1). How to compute the sum of of the p matrix products at\n",
    "once ? (result has shape (n,1))\n"
   ]
  },

  {
   "cell_type": "markdown",
   "metadata": {},
   "source": [
    "## Master"
   ]
  },
  {
   "cell_type": "markdown",
   "metadata": {},
   "source": [
    "Given a two dimensional array, how to extract unique rows ?\n"
   ]
  },
  {
   "cell_type": "markdown",
   "metadata": {},
   "source": [
    "## Note"
   ]
  },
  {
   "cell_type": "markdown",
   "metadata": {},
   "source": [
    "See\n",
    "[stackoverflow](http://stackoverflow.com/questions/16970982/find-unique-rows-in-numpy-array/)\n",
    "for explanations.\n"
   ]
  },

  {
   "cell_type": "markdown",
   "metadata": {},
   "source": [
    "## Archmaster"
   ]
  }
 ],
 "metadata": {
  "kernelspec": {
   "display_name": "Python 2",
   "language": "python",
   "name": "python2"
  },
  "language_info": {
   "codemirror_mode": {
    "name": "ipython",
    "version": 2
   },
   "file_extension": ".py",
   "mimetype": "text/x-python",
   "name": "python",
   "nbconvert_exporter": "python",
   "pygments_lexer": "ipython2",
   "version": "2.7.9"
  }
 },
 "nbformat": 4,
 "nbformat_minor": 0
}
